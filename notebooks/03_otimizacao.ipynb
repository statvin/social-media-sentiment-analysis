{
 "cells": [
  {
   "cell_type": "markdown",
   "id": "5d736863",
   "metadata": {},
   "source": [
    "# Projeto: Análise de Sentimentos em Redes Sociais\n",
    "## Etapa: Otimização\n",
    "**Autor:** Vinícius Ramos  \n",
    "**Fonte do Dataset:** [Kaggle](https://www.kaggle.com/datasets/kashishparmar02/social-media-sentiments-analysis-dataset)"
   ]
  },
  {
   "cell_type": "markdown",
   "id": "ffbfb616",
   "metadata": {},
   "source": [
    "## 1. Importações e Carregamento de Dados"
   ]
  },
  {
   "cell_type": "code",
   "execution_count": 1,
   "id": "2dd47dcf",
   "metadata": {},
   "outputs": [],
   "source": [
    "import pandas as pd\n",
    "from sklearn.model_selection import train_test_split\n",
    "from sklearn.feature_extraction.text import TfidfVectorizer\n",
    "from sklearn.pipeline import Pipeline\n",
    "from sklearn.linear_model import LogisticRegression\n",
    "from sklearn.ensemble import RandomForestClassifier\n",
    "from sklearn.multiclass import OneVsRestClassifier\n",
    "from sklearn.metrics import classification_report, accuracy_score, confusion_matrix\n",
    "import seaborn as sns\n",
    "import matplotlib.pyplot as plt\n",
    "import joblib\n",
    "\n",
    "# Reutilizando o código de pré-processamento (idealmente, isso viraria uma função em um script .py)\n",
    "from nltk.corpus import stopwords\n",
    "from nltk.stem import WordNetLemmatizer\n",
    "import re"
   ]
  },
  {
   "cell_type": "code",
   "execution_count": 2,
   "id": "187da1eb",
   "metadata": {},
   "outputs": [],
   "source": [
    "df = pd.read_csv('../data/processed/sentimentdataset_tratado.csv')\n",
    "df.dropna(subset=['Text'], inplace=True)"
   ]
  },
  {
   "cell_type": "code",
   "execution_count": 3,
   "id": "2ec89551",
   "metadata": {},
   "outputs": [],
   "source": [
    "stop_words = set(stopwords.words('english'))\n",
    "stop_words.add('like')\n",
    "lemmatizer = WordNetLemmatizer()"
   ]
  },
  {
   "cell_type": "code",
   "execution_count": 4,
   "id": "2f78ca81",
   "metadata": {},
   "outputs": [],
   "source": [
    "def preprocess_text(text):\n",
    "    text = text.lower()\n",
    "    text = re.sub(r'http\\S+|www\\S+|https\\S+', '', text, flags=re.MULTILINE)\n",
    "    text = re.sub(r'\\@\\w+|\\#','', text)\n",
    "    text = re.sub(r'[^a-z\\s]', '', text)\n",
    "    tokens = text.split()\n",
    "    tokens = [word for word in tokens if word not in stop_words]\n",
    "    tokens = [lemmatizer.lemmatize(word) for word in tokens]\n",
    "    return \" \".join(tokens)"
   ]
  },
  {
   "cell_type": "code",
   "execution_count": 5,
   "id": "96c17fcc",
   "metadata": {},
   "outputs": [],
   "source": [
    "df['Text_Processed'] = df['Text'].apply(preprocess_text)"
   ]
  },
  {
   "cell_type": "code",
   "execution_count": 6,
   "id": "1c4e30a1",
   "metadata": {},
   "outputs": [],
   "source": [
    "X = df['Text_Processed']\n",
    "y = df['Sentiment_Simplified']\n",
    "\n",
    "X_train, X_test, y_train, y_test = train_test_split(\n",
    "    X, y, test_size=0.2, random_state=42, stratify=y\n",
    ")"
   ]
  },
  {
   "cell_type": "markdown",
   "id": "01575013",
   "metadata": {},
   "source": [
    "## 2. Criação dos Pipelines Otimizados"
   ]
  },
  {
   "cell_type": "code",
   "execution_count": 20,
   "id": "f696457d",
   "metadata": {},
   "outputs": [],
   "source": [
    "# Logistic Regression\n",
    "pipeline_lr_balanced = Pipeline([\n",
    "    ('tfidf', TfidfVectorizer(max_features=5000, ngram_range=(1, 2))),\n",
    "    ('classifier', OneVsRestClassifier(LogisticRegression(random_state=42, solver='liblinear', class_weight='balanced')))\n",
    "])\n",
    "\n",
    "# Random Forest\n",
    "pipeline_rf_balanced = Pipeline([\n",
    "    ('tfidf', TfidfVectorizer(max_features=5000, ngram_range=(1, 2))),\n",
    "    ('classifier', RandomForestClassifier(n_estimators=100, random_state=42, n_jobs=-1, class_weight='balanced'))\n",
    "])\n"
   ]
  },
  {
   "cell_type": "markdown",
   "id": "874e8d61",
   "metadata": {},
   "source": [
    "## 3. Treinamento e Avaliação dos Modelos"
   ]
  },
  {
   "cell_type": "code",
   "execution_count": 12,
   "id": "3053b4ec",
   "metadata": {},
   "outputs": [],
   "source": [
    "pipeline_lr_balanced.fit(X_train, y_train)\n",
    "y_pred_lr_b = pipeline_lr_balanced.predict(X_test)"
   ]
  },
  {
   "cell_type": "code",
   "execution_count": 21,
   "id": "4dfd417a",
   "metadata": {},
   "outputs": [
    {
     "data": {
      "text/plain": [
       "0.7414965986394558"
      ]
     },
     "execution_count": 21,
     "metadata": {},
     "output_type": "execute_result"
    }
   ],
   "source": [
    "accuracy_score(y_test, y_pred_lr_b)"
   ]
  },
  {
   "cell_type": "code",
   "execution_count": 14,
   "id": "e1c49e5a",
   "metadata": {},
   "outputs": [
    {
     "name": "stdout",
     "output_type": "stream",
     "text": [
      "              precision    recall  f1-score   support\n",
      "\n",
      "    Negativo       0.74      0.72      0.73        32\n",
      "      Neutro       0.69      0.55      0.61        44\n",
      "    Positivo       0.77      0.87      0.82        71\n",
      "\n",
      "    accuracy                           0.74       147\n",
      "   macro avg       0.73      0.71      0.72       147\n",
      "weighted avg       0.74      0.74      0.73       147\n",
      "\n"
     ]
    }
   ],
   "source": [
    "print(classification_report(y_test, y_pred_lr_b))"
   ]
  },
  {
   "cell_type": "code",
   "execution_count": 22,
   "id": "248d47e7",
   "metadata": {},
   "outputs": [],
   "source": [
    "pipeline_rf_balanced.fit(X_train, y_train)\n",
    "y_pred_rf_b = pipeline_rf_balanced.predict(X_test)"
   ]
  },
  {
   "cell_type": "code",
   "execution_count": 23,
   "id": "125f6dd1",
   "metadata": {},
   "outputs": [
    {
     "data": {
      "text/plain": [
       "0.6598639455782312"
      ]
     },
     "execution_count": 23,
     "metadata": {},
     "output_type": "execute_result"
    }
   ],
   "source": [
    "accuracy_score(y_test, y_pred_rf_b)"
   ]
  },
  {
   "cell_type": "code",
   "execution_count": 25,
   "id": "ab2d3948",
   "metadata": {},
   "outputs": [
    {
     "name": "stdout",
     "output_type": "stream",
     "text": [
      "              precision    recall  f1-score   support\n",
      "\n",
      "    Negativo       0.79      0.47      0.59        32\n",
      "      Neutro       0.92      0.27      0.42        44\n",
      "    Positivo       0.61      0.99      0.75        71\n",
      "\n",
      "    accuracy                           0.66       147\n",
      "   macro avg       0.77      0.58      0.59       147\n",
      "weighted avg       0.74      0.66      0.62       147\n",
      "\n"
     ]
    }
   ],
   "source": [
    "print(classification_report(y_test, y_pred_rf_b))"
   ]
  },
  {
   "cell_type": "code",
   "execution_count": null,
   "id": "deb2bbb1",
   "metadata": {},
   "outputs": [
    {
     "data": {
      "text/plain": [
       "0.7414965986394558"
      ]
     },
     "metadata": {},
     "output_type": "display_data"
    }
   ],
   "source": [
    "accuracy_score(y_test, y_pred_lr_b)"
   ]
  },
  {
   "cell_type": "markdown",
   "id": "5e42b72f",
   "metadata": {},
   "source": [
    "## 4. Salvando o Modelo Otimizado"
   ]
  },
  {
   "cell_type": "code",
   "execution_count": 28,
   "id": "78244644",
   "metadata": {},
   "outputs": [
    {
     "name": "stdout",
     "output_type": "stream",
     "text": [
      "\n",
      "Regressão Logística Balanceada foi a melhor (74.15%) e será salva.\n",
      "Modelo final salvo em: ../data/modelos_salvos/modelo_final_otimizado.joblib\n"
     ]
    }
   ],
   "source": [
    "caminho_modelo_final = '../data/modelos_salvos/modelo_final_otimizado.joblib'\n",
    "\n",
    "score_lr = accuracy_score(y_test, y_pred_lr_b)\n",
    "score_rf = accuracy_score(y_test, y_pred_rf_b)\n",
    "\n",
    "if score_rf > score_lr:\n",
    "    print(f\"\\nRandom Forest Balanceado foi o melhor ({score_rf:.2%}) e será salvo.\")\n",
    "    joblib.dump(pipeline_rf_balanced, caminho_modelo_final)\n",
    "else:\n",
    "    print(f\"\\nRegressão Logística Balanceada foi a melhor ({score_lr:.2%}) e será salva.\")\n",
    "    joblib.dump(pipeline_lr_balanced, caminho_modelo_final)\n",
    "\n",
    "print(f\"Modelo final salvo em: {caminho_modelo_final}\")"
   ]
  }
 ],
 "metadata": {
  "kernelspec": {
   "display_name": "Python 3",
   "language": "python",
   "name": "python3"
  },
  "language_info": {
   "codemirror_mode": {
    "name": "ipython",
    "version": 3
   },
   "file_extension": ".py",
   "mimetype": "text/x-python",
   "name": "python",
   "nbconvert_exporter": "python",
   "pygments_lexer": "ipython3",
   "version": "3.12.6"
  }
 },
 "nbformat": 4,
 "nbformat_minor": 5
}
