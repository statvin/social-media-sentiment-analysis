{
 "cells": [
  {
   "cell_type": "markdown",
   "id": "cf366a37",
   "metadata": {},
   "source": [
    "# Projeto: Análise de Sentimentos em Redes Sociais\n",
    "## Etapa: Predições Finais\n",
    "**Autor:** Vinícius Ramos\n",
    "**Fonte do Dataset:** [Kaggle](https://www.kaggle.com/datasets/kashishparmar02/social-media-sentiments-analysis-dataset)"
   ]
  },
  {
   "cell_type": "markdown",
   "id": "b6d5bb90",
   "metadata": {},
   "source": [
    "## 1. Importações e Carregamento do Modelo"
   ]
  },
  {
   "cell_type": "code",
   "execution_count": 6,
   "id": "4df9483a",
   "metadata": {},
   "outputs": [
    {
     "name": "stdout",
     "output_type": "stream",
     "text": [
      "Modelo carregado com sucesso!\n",
      "Tipo do objeto carregado: <class 'sklearn.pipeline.Pipeline'>\n",
      "\n",
      "Detalhes do pipeline do modelo:\n",
      "Pipeline(steps=[('tfidf',\n",
      "                 TfidfVectorizer(max_features=5000, ngram_range=(1, 2))),\n",
      "                ('classifier',\n",
      "                 OneVsRestClassifier(estimator=LogisticRegression(class_weight='balanced',\n",
      "                                                                  random_state=42,\n",
      "                                                                  solver='liblinear')))])\n"
     ]
    }
   ],
   "source": [
    "import joblib\n",
    "import re\n",
    "import nltk\n",
    "from nltk.corpus import stopwords\n",
    "from nltk.stem import WordNetLemmatizer\n",
    "\n",
    "# Carregar o modelo que salvamos na etapa anterior\n",
    "caminho_modelo = '../data/modelos_salvos/modelo_final_otimizado.joblib'\n",
    "modelo_carregado = joblib.load(caminho_modelo)\n",
    "\n",
    "print(\"Modelo carregado com sucesso!\")\n",
    "print(f\"Tipo do objeto carregado: {type(modelo_carregado)}\")\n",
    "print(\"\\nDetalhes do pipeline do modelo:\")\n",
    "print(modelo_carregado)"
   ]
  },
  {
   "cell_type": "markdown",
   "id": "f189dcad",
   "metadata": {},
   "source": [
    "## 2. Função de Pré-processamento"
   ]
  },
  {
   "cell_type": "code",
   "execution_count": 7,
   "id": "d01564dc",
   "metadata": {},
   "outputs": [],
   "source": [
    "# Inicializando os componentes necessários\n",
    "stop_words = set(stopwords.words('english'))\n",
    "stop_words.add('like')\n",
    "lemmatizer = WordNetLemmatizer()\n",
    "\n",
    "def preprocess_text(text):\n",
    "    # 1. Converter para minúsculas\n",
    "    text = text.lower()\n",
    "    # 2. Remover URLs\n",
    "    text = re.sub(r'http\\S+|www\\S+|https\\S+', '', text, flags=re.MULTILINE)\n",
    "    # 3. Remover menções (@) e hashtags (#)\n",
    "    text = re.sub(r'\\@\\w+|\\#','', text)\n",
    "    # 4. Remover pontuação e números\n",
    "    text = re.sub(r'[^a-z\\s]', '', text)\n",
    "    # 5. Tokenização e remoção de stopwords\n",
    "    tokens = text.split()\n",
    "    tokens = [word for word in tokens if word not in stop_words]\n",
    "    # 6. Lematização\n",
    "    tokens = [lemmatizer.lemmatize(word) for word in tokens]\n",
    "    # 7. Juntar os tokens de volta em uma string\n",
    "    return \" \".join(tokens)\n"
   ]
  },
  {
   "cell_type": "markdown",
   "id": "f74727f2",
   "metadata": {},
   "source": [
    "## 3. Função de Predição"
   ]
  },
  {
   "cell_type": "code",
   "execution_count": 8,
   "id": "c80da8ad",
   "metadata": {},
   "outputs": [],
   "source": [
    "def prever_sentimento(frase):\n",
    "    \"\"\"\n",
    "    Recebe uma frase em texto puro, a processa e retorna o sentimento\n",
    "    previsto pelo modelo carregado.\n",
    "    \"\"\"\n",
    "    # Garante que a entrada seja uma string\n",
    "    if not isinstance(frase, str):\n",
    "        return \"Erro: A entrada deve ser um texto.\"\n",
    "\n",
    "    # 1. Processar o texto\n",
    "    texto_processado = preprocess_text(frase)\n",
    "\n",
    "    # 2. Fazer a predição    \n",
    "    predicao = modelo_carregado.predict([texto_processado])\n",
    "    \n",
    "    # 3. Retornar o resultado\n",
    "    return predicao[0]\n"
   ]
  },
  {
   "cell_type": "markdown",
   "id": "4721cfb2",
   "metadata": {},
   "source": [
    "## 4. Testando o Modelo"
   ]
  },
  {
   "cell_type": "code",
   "execution_count": 9,
   "id": "c0bb22af",
   "metadata": {},
   "outputs": [
    {
     "name": "stdout",
     "output_type": "stream",
     "text": [
      "Frase: 'I had a wonderful and amazing vacation in the mountains!'\n",
      "  -> Sentimento Previsto: Positivo\n",
      "\n",
      "Frase: 'This is the worst service I have ever received. I am very disappointed.'\n",
      "  -> Sentimento Previsto: Negativo\n",
      "\n",
      "Frase: 'The movie was okay, not great but not bad either.'\n",
      "  -> Sentimento Previsto: Negativo\n",
      "\n",
      "Frase: 'I'm so excited about the concert tonight!'\n",
      "  -> Sentimento Previsto: Positivo\n",
      "\n",
      "Frase: 'My flight was delayed and I lost my luggage. What a terrible day.'\n",
      "  -> Sentimento Previsto: Negativo\n",
      "\n",
      "Frase: 'The documentation is clear and provides all the necessary information.'\n",
      "  -> Sentimento Previsto: Neutro\n",
      "\n",
      "Frase: 'I feel a bit sad today, I miss my friends.'\n",
      "  -> Sentimento Previsto: Negativo\n",
      "\n",
      "Frase: 'This new feature is quite confusing to use.'\n",
      "  -> Sentimento Previsto: Positivo\n",
      "\n",
      "Frase: 'Congratulations on your incredible achievement!'\n",
      "  -> Sentimento Previsto: Neutro\n",
      "\n",
      "Frase: 'I'm just watching the clouds go by.'\n",
      "  -> Sentimento Previsto: Negativo\n",
      "\n"
     ]
    }
   ],
   "source": [
    "# Lista de frases para testar\n",
    "frases_teste = [\n",
    "    \"I had a wonderful and amazing vacation in the mountains!\",\n",
    "    \"This is the worst service I have ever received. I am very disappointed.\",\n",
    "    \"The movie was okay, not great but not bad either.\",\n",
    "    \"I'm so excited about the concert tonight!\",\n",
    "    \"My flight was delayed and I lost my luggage. What a terrible day.\",\n",
    "    \"The documentation is clear and provides all the necessary information.\",\n",
    "    \"I feel a bit sad today, I miss my friends.\",\n",
    "    \"This new feature is quite confusing to use.\",\n",
    "    \"Congratulations on your incredible achievement!\",\n",
    "    \"I'm just watching the clouds go by.\"\n",
    "]\n",
    "\n",
    "# Iterar sobre as frases e mostrar a predição\n",
    "for frase in frases_teste:\n",
    "    sentimento = prever_sentimento(frase)\n",
    "    print(f\"Frase: '{frase}'\\n  -> Sentimento Previsto: {sentimento}\\n\")"
   ]
  },
  {
   "cell_type": "markdown",
   "id": "986ff379",
   "metadata": {},
   "source": [
    "## 5. Interativo"
   ]
  },
  {
   "cell_type": "code",
   "execution_count": 10,
   "id": "68dda579",
   "metadata": {},
   "outputs": [
    {
     "name": "stdout",
     "output_type": "stream",
     "text": [
      "Digite uma frase (em inglês) e pressione Enter para ver a predição.\n",
      "Digite 'sair' para terminar.\n",
      "  -> Sentimento Previsto: Positivo\n",
      "Obrigado!\n"
     ]
    }
   ],
   "source": [
    "print(\"Digite uma frase (em inglês) e pressione Enter para ver a predição.\")\n",
    "print(\"Digite 'sair' para terminar.\")\n",
    "\n",
    "while True:\n",
    "    try:\n",
    "        frase_usuario = input(\"\\nSua frase: \")\n",
    "        if frase_usuario.lower() == 'sair':\n",
    "            print(\"Obrigado!\")\n",
    "            break\n",
    "        \n",
    "        sentimento_previsto = prever_sentimento(frase_usuario)\n",
    "        print(f\"  -> Sentimento Previsto: {sentimento_previsto}\")\n",
    "\n",
    "    except (EOFError, KeyboardInterrupt):\n",
    "        print(\"\\nSessão interativa encerrada.\")\n",
    "        break"
   ]
  }
 ],
 "metadata": {
  "kernelspec": {
   "display_name": "Python 3",
   "language": "python",
   "name": "python3"
  },
  "language_info": {
   "codemirror_mode": {
    "name": "ipython",
    "version": 3
   },
   "file_extension": ".py",
   "mimetype": "text/x-python",
   "name": "python",
   "nbconvert_exporter": "python",
   "pygments_lexer": "ipython3",
   "version": "3.12.6"
  }
 },
 "nbformat": 4,
 "nbformat_minor": 5
}
